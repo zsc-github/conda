{
 "cells": [
  {
   "cell_type": "code",
   "execution_count": 1,
   "id": "08a17db5",
   "metadata": {},
   "outputs": [],
   "source": [
    "import time\n",
    "from chinese_calendar import is_holiday\n",
    "import matplotlib.pyplot as plt\n",
    "# %matplotlib notebook\n",
    "\n",
    "import warnings\n",
    "warnings.filterwarnings(\"ignore\")"
   ]
  },
  {
   "cell_type": "code",
   "execution_count": 2,
   "id": "6a2ebcb9",
   "metadata": {},
   "outputs": [],
   "source": [
    "from datetime import timedelta\n",
    "from typing import Any, Callable, List, Optional, Union\n",
    "\n",
    "import numpy as np\n",
    "import pandas as pd\n",
    "from pandas.tseries.frequencies import to_offset\n",
    "\n",
    "TimedeltaLike = Union[timedelta, float, str]"
   ]
  },
  {
   "cell_type": "code",
   "execution_count": 3,
   "id": "c9789951",
   "metadata": {},
   "outputs": [],
   "source": [
    "import ipywidgets as widgets # 交互组件\n",
    "from ipywidgets import interact, fixed\n",
    "from IPython.display import display, clear_output"
   ]
  },
  {
   "cell_type": "code",
   "execution_count": 4,
   "id": "05c38468",
   "metadata": {
    "code_folding": [
     1,
     6,
     21,
     24,
     28,
     33,
     49,
     51,
     61,
     66,
     73,
     78,
     88,
     100,
     177,
     181,
     195
    ]
   },
   "outputs": [],
   "source": [
    "class Simulator:\n",
    "    def __init__(\n",
    "        self,\n",
    "        n: int = 100,\n",
    "        freq: str = \"D\",\n",
    "        start: Any = None,\n",
    "    ):\n",
    "        self.n = n\n",
    "        self.freq = freq\n",
    "        self.start = start\n",
    "\n",
    "        # create time\n",
    "        self.time = pd.date_range(\n",
    "            start=start,\n",
    "            freq=freq,\n",
    "            periods=n,\n",
    "        )\n",
    "\n",
    "        # create the simulated time series\n",
    "        self.timeseries = np.zeros(self.n)\n",
    "        \n",
    "    def sigmoid(x: float):\n",
    "        return 1 / (1 + np.exp(-10 * x))\n",
    "    \n",
    "    def _convert_period(self, period):\n",
    "        \n",
    "        return to_offset(period).nanos / 1e9\n",
    "    \n",
    "    def _add_component(\n",
    "        self,\n",
    "        component_gen: Callable,\n",
    "        multiply: bool,\n",
    "        time_scale: Optional[float] = None,\n",
    "    ):\n",
    "        timestamps = self.time.values.astype(np.float64) / 1e9\n",
    "        if time_scale is None:\n",
    "            time_scale = timestamps[-1] - timestamps[0] + np.finfo(float).eps\n",
    "#         timepoints = (timestamps - timestamps[0]) / time_scale\n",
    "        timepoints =  np.arange(self.n) / time_scale\n",
    "        component = component_gen(timepoints)\n",
    "\n",
    "        if multiply:\n",
    "            self.timeseries *= 1 + component\n",
    "        else:\n",
    "            self.timeseries += component\n",
    "\n",
    "        return self\n",
    "    \n",
    "    # 趋势项\n",
    "    def add_trend(\n",
    "        self, magnitude: float, trend_type: str = \"linear\", multiply: bool = False\n",
    "    ):\n",
    "        def component_gen(timepoints):\n",
    "            if trend_type == \"sigmoid\" or trend_type == \"S\":\n",
    "                return magnitude * self.sigmoid(timepoints - 0.5)\n",
    "            else:  # 'linear' trend by default\n",
    "                return magnitude * timepoints\n",
    "\n",
    "        return self._add_component(component_gen, multiply)\n",
    "    \n",
    "    # 误差项\n",
    "    def add_noise(\n",
    "        self,\n",
    "        magnitude: float = 1.0,\n",
    "        lam: float = 0.0, # 偏正态分布中的偏度参数\n",
    "        multiply: bool = False,\n",
    "    ):\n",
    "\n",
    "        def component_gen(timepoints):\n",
    "            return magnitude*lam/(1+lam**2)**0.5*abs(np.random.randn(len(timepoints)))+magnitude/(1+lam**2)**0.5*np.random.randn(len(timepoints))\n",
    "\n",
    "        return self._add_component(component_gen, multiply)\n",
    "\n",
    "    def add_seasonality(\n",
    "        self,\n",
    "        magnitude: float = 0.0,\n",
    "        period: int = 7,\n",
    "        multiply: bool = False,\n",
    "    ):\n",
    "\n",
    "#         period = self._convert_period(period)\n",
    "\n",
    "        def component_gen(timepoints):\n",
    "            return magnitude * np.sin(np.pi * timepoints)\n",
    "#             return magnitude * np.sin(2 * np.pi * timepoints)\n",
    "\n",
    "        return self._add_component(component_gen, multiply, time_scale=period)\n",
    "    \n",
    "    def trend_shift_sim(\n",
    "        self,\n",
    "        random_seed: int = 15,\n",
    "        cp_arr: Optional[List[int]] = None,\n",
    "        trend_arr: Optional[List[float]] = None,\n",
    "        intercept: float = 100.0,\n",
    "        noise: float = 3.0,\n",
    "        lam: float = 0.0, # 偏正态分布的偏度系数λ\n",
    "        seasonal_period: int = 7,\n",
    "        seasonal_magnitude: float = 3.0,\n",
    "        anomaly_arr: Optional[List[int]] = None,\n",
    "        z_score_arr: Optional[List[int]] = None,\n",
    "    ):\n",
    "\n",
    "        # initializing the lists inside the function since\n",
    "        # mutable lists as defaults is bad practice that linter flags\n",
    "        if cp_arr is None:\n",
    "            cp_arr = [100]\n",
    "        if trend_arr is None:\n",
    "            trend_arr = [3.0, 30.0]\n",
    "        if anomaly_arr is None:\n",
    "            anomaly_arr = []\n",
    "        if z_score_arr is None:\n",
    "            z_score_arr = []\n",
    "\n",
    "        # if cp_arr is not sorted, sort it\n",
    "        cp_arr = sorted(cp_arr)\n",
    "\n",
    "        # length of trend array should be one larger than cp array\n",
    "        # so that there is a trend corresponding to every segment\n",
    "        if len(trend_arr) - len(cp_arr) != 1:\n",
    "            raise ValueError(\n",
    "                f\"\"\"\n",
    "                Length of trend array should be one greater than\n",
    "                cp array. But we got\n",
    "                cp_arr: {len(cp_arr)},\n",
    "                trend_arr: {len(trend_arr)}\n",
    "                \"\"\"\n",
    "            )\n",
    "\n",
    "        if len(cp_arr) > 0 and cp_arr[-1] >= self.n:\n",
    "            raise ValueError(f\"Last cp {cp_arr[-1]} is greater than length {self.n}\")\n",
    "\n",
    "        cp_arr.append(self.n)\n",
    "        cp_arr.insert(0, 0)\n",
    "\n",
    "        y_val = np.full(self.n, intercept, dtype=float)\n",
    "\n",
    "        for i in range(len(cp_arr) - 1):\n",
    "            cp_begin = cp_arr[i]\n",
    "            cp_end = cp_arr[i + 1]\n",
    "\n",
    "            y_val[cp_begin:cp_end] = y_val[cp_begin:cp_end] + trend_arr[i] * np.arange(\n",
    "                cp_begin, cp_end\n",
    "            )\n",
    "\n",
    "            if i > 0:\n",
    "                delta_val = y_val[cp_begin] - y_val[cp_begin - 1]\n",
    "                y_val[cp_begin:cp_end] -= delta_val\n",
    "\n",
    "        # add seasonality\n",
    "        y_val += seasonal_magnitude * np.sin(\n",
    "            (np.pi / seasonal_period) * np.arange(self.n)\n",
    "        )\n",
    "\n",
    "        # add noise and anomalies\n",
    "        noise_arr = noise*lam/(1+lam**2)**0.5*abs(np.random.randn(self.n))+noise/(1+lam**2)**0.5*np.random.randn(self.n)\n",
    "        if len(anomaly_arr) != len(z_score_arr):\n",
    "            raise ValueError(\n",
    "                f\"\"\"\n",
    "                Length of anomaly array should be equal to z_score array. But we got\n",
    "                anomaly_arr: {len(anomaly_arr)},\n",
    "                z_score_arr: {len(z_score_arr)}\n",
    "                \"\"\"\n",
    "            )\n",
    "        for arr_idx, y_idx in enumerate(anomaly_arr):\n",
    "            if y_idx < 0 or y_idx >= self.n:\n",
    "                raise ValueError(f\"Anomaly point {y_idx} is out of range\")\n",
    "            # pyre-fixme[16]: `Sequence` has no attribute `__setitem__`.\n",
    "            noise_arr[y_idx] = z_score_arr[arr_idx] * noise\n",
    "\n",
    "        y_val += noise_arr\n",
    "        \n",
    "        self.timeseries = y_val\n",
    "\n",
    "#         ts = pd.Series(index=self.time, data=self.timeseries)\n",
    "\n",
    "        return self\n",
    "    \n",
    "    def add_special_day(\n",
    "        self,\n",
    "        magnitude: float = 1,\n",
    "        special_day: str = 'not work days',\n",
    "    ):\n",
    "        rate = np.ones(self.n)\n",
    "        if special_day == 'not work days':\n",
    "            for i in range(self.n):\n",
    "                try:\n",
    "                    if is_holiday(self.time[i]):\n",
    "                        rate[i] = magnitude\n",
    "                except:\n",
    "                    rate[i] = 1\n",
    "        # 可以继续加其它特殊日期规则\n",
    "        \n",
    "        self.timeseries = rate * self.timeseries\n",
    "        return self\n",
    "    \n",
    "    def stl_sim(self):\n",
    "        ts = pd.Series(index=self.time, data=self.timeseries)\n",
    "        return ts"
   ]
  },
  {
   "cell_type": "code",
   "execution_count": 5,
   "id": "2d41f3cb",
   "metadata": {
    "code_folding": [
     1,
     13,
     20,
     27,
     39,
     48,
     52,
     58
    ]
   },
   "outputs": [],
   "source": [
    "# 异常\n",
    "def anomaly(start_point, length, magnitude=1, anomaly_type='突增'):\n",
    "    if length == 0:\n",
    "        return [], []\n",
    "    anomaly_arr = list(range(start_point, start_point+length))\n",
    "    z_score_arr = list(range(1, 1 + length * abs(magnitude), abs(magnitude)))\n",
    "    if anomaly_type == '突增':\n",
    "        z_score_arr = list(map(lambda x: int(x), z_score_arr))\n",
    "    elif anomaly_type == '突降':\n",
    "        z_score_arr = list(map(lambda x: int((-1)*x), z_score_arr))\n",
    "    return anomaly_arr, z_score_arr\n",
    "\n",
    "anomaly_arr, z_score_arr = [], []\n",
    "def add_anomaly(a):\n",
    "    global anomaly_arr, z_score_arr\n",
    "    new_anomaly_arr, new_z_score_arr = anomaly(np.random.randint(0, n - anomaly_length), anomaly_length, \n",
    "                                               magnitude=anomaly_magnitude, anomaly_type=anomaly_type)\n",
    "    anomaly_arr += new_anomaly_arr\n",
    "    z_score_arr += new_z_score_arr\n",
    "\n",
    "def print_anomaly(a):\n",
    "    global anomaly_arr, z_score_arr\n",
    "    if anomaly_arr == []:\n",
    "        print(f'{time.strftime(\"%Y-%m-%d %H:%M:%S\", time.localtime(int(time.time())))}：没有异常！')\n",
    "    else:\n",
    "        print(f'{time.strftime(\"%Y-%m-%d %H:%M:%S\", time.localtime(int(time.time())))}：异常位置为{anomaly_arr}，对应的异常程度为{z_score_arr}')\n",
    "    \n",
    "def del_anomaly(a):\n",
    "    global anomaly_arr, z_score_arr\n",
    "    if anomaly_arr == []:\n",
    "        return\n",
    "    last_del = None\n",
    "    for anomaly in reversed(anomaly_arr):\n",
    "        if last_del == None or last_del - anomaly == 1:\n",
    "            last_del = anomaly_arr.pop()\n",
    "            z_score_arr.pop()\n",
    "\n",
    "# 变点\n",
    "cp_arr, Trend_arr = [], []\n",
    "def add_trend(a):\n",
    "    global cp_arr, Trend_arr\n",
    "    if cp_arr == []:\n",
    "        cp_arr.append(np.random.randint(0, n))\n",
    "        Trend_arr.append(trendly_magnitude)\n",
    "    else:\n",
    "        cp_arr.append(np.random.randint(cp_arr[-1], n))\n",
    "        Trend_arr.append(trendly_magnitude)\n",
    "\n",
    "def del_trend(a):\n",
    "    cp_arr.pop()\n",
    "    Trend_arr.pop()\n",
    "\n",
    "def print_trend(a):\n",
    "    if cp_arr == []:\n",
    "        print(f'{time.strftime(\"%Y-%m-%d %H:%M:%S\", time.localtime(int(time.time())))}：没有变点！')\n",
    "    else:\n",
    "        print(f'{time.strftime(\"%Y-%m-%d %H:%M:%S\", time.localtime(int(time.time())))}：变点位置为{cp_arr}，对应的变点斜率为{Trend_arr}')\n",
    "\n",
    "def ts_init(b):\n",
    "    global sim\n",
    "    sim = Simulator(n=n, start=start, freq=freq)\n",
    "    \n",
    "    period = periods\n",
    "    period_dic = {'s':1, 'min':60, 'h':3600, 'd':86400, 'w':604800}\n",
    "    if period == '':\n",
    "        period = 1\n",
    "    else:\n",
    "        period = period_dic[''.join(x for x in period if x.isalpha())]*float(''.join(x for x in period if x.isdigit() or x == '.'))\n",
    "        period = int(n/((sim.time[-1] - sim.time[0]).value/1e9/period)/2)\n",
    "    \n",
    "    trend_arr = [magnitude_trend] + Trend_arr\n",
    "    sim.trend_shift_sim(cp_arr=cp_arr, trend_arr=trend_arr, intercept=t, \n",
    "                        seasonal_period=period, seasonal_magnitude=magnitude_seasonality, \n",
    "                        noise=magnitude_noise, lam = lam, \n",
    "                        anomaly_arr = anomaly_arr, z_score_arr = z_score_arr)\n",
    "\n",
    "    with out_plot:\n",
    "        clear_output()\n",
    "        plt.figure(figsize=(12,8))\n",
    "        plt.plot(sim.stl_sim())\n",
    "        plt.legend([\"Value\"], fontsize=15, loc='upper right')\n",
    "        plt.title(\"The Simulation of Time Series\", fontsize=20)\n",
    "        plt.xlabel(\"Time\", fontsize=12)\n",
    "        plt.show()"
   ]
  },
  {
   "cell_type": "code",
   "execution_count": 6,
   "id": "0cf14721",
   "metadata": {
    "code_folding": [
     0,
     30
    ]
   },
   "outputs": [],
   "source": [
    "def params(N, Freq, Start, \n",
    "           T, Magnitude_trend, \n",
    "           Period, Magnitude_seasonality, \n",
    "           Magnitude_noise, Lam, \n",
    "           Anomaly_length, Anomaly_magnitude, Anomaly_type, \n",
    "           Trendly_magnitude, \n",
    "           Add_period, Add_seasonality, \n",
    "           Magnitude_special, Special_day,\n",
    "           Out_put):\n",
    "    \n",
    "    global n, freq, start # 初始参数\n",
    "    global t, magnitude_trend # 趋势项参数\n",
    "    global periods, magnitude_seasonality # 周期项参数\n",
    "    global magnitude_noise, lam # 误差项参数\n",
    "    global anomaly_length, anomaly_magnitude, anomaly_type # 异常点参数\n",
    "    global trendly_magnitude # 变点参数\n",
    "    global add_period, add_seasonality # 额外的周期项参数\n",
    "    global magnitude_special, special_day # 特殊日期参数\n",
    "    global out_put # 保存csv的文件名\n",
    "    \n",
    "    n, freq, start = N, Freq, Start\n",
    "    t, magnitude_trend = T, Magnitude_trend\n",
    "    periods, magnitude_seasonality = Period, Magnitude_seasonality\n",
    "    magnitude_noise, lam = Magnitude_noise, Lam\n",
    "    anomaly_length, anomaly_magnitude, anomaly_type = Anomaly_length, Anomaly_magnitude, Anomaly_type\n",
    "    trendly_magnitude = Trendly_magnitude\n",
    "    add_period, add_seasonality = Add_period, Add_seasonality\n",
    "    magnitude_special, special_day = Magnitude_special, Special_day\n",
    "    out_put = Out_put\n",
    "\n",
    "plot_button = widgets.Button(\n",
    "    description='运行',\n",
    "    disabled=False,\n",
    "    button_style='', # 'success', 'info', 'warning', 'danger' or ''\n",
    "    tooltip='plot',\n",
    "    icon='' # (FontAwesome names without the `fa-` prefix)\n",
    ")\n",
    "plot_button.on_click(ts_init)"
   ]
  },
  {
   "cell_type": "code",
   "execution_count": 7,
   "id": "a0ecc654",
   "metadata": {
    "code_folding": [
     0,
     2,
     15,
     23
    ]
   },
   "outputs": [],
   "source": [
    "# 基础参数\n",
    "n = 300\n",
    "N = widgets.IntSlider(\n",
    "    value=300,\n",
    "    min=20,\n",
    "    max=2000,\n",
    "    step=1,\n",
    "    description='样本个数:',\n",
    "    disabled=False,\n",
    "    continuous_update=False,\n",
    "    orientation='horizontal',\n",
    "    readout=True,\n",
    "    readout_format='d'\n",
    ")\n",
    "\n",
    "freq = widgets.Text(\n",
    "    value='min',\n",
    "    placeholder='例：5min',\n",
    "    description='颗粒度：',\n",
    "    disabled=False,\n",
    "    continuous_update=False\n",
    ")\n",
    "\n",
    "start = widgets.Text(\n",
    "    value=time.strftime(\"%Y-%m-%d %H:%M:%S\", time.localtime(int(time.time()))),\n",
    "    placeholder='例：2022-06-06 00:00:00',\n",
    "    description='起始时间：',\n",
    "    disabled=False,\n",
    "    continuous_update=False\n",
    ")"
   ]
  },
  {
   "cell_type": "code",
   "execution_count": 8,
   "id": "ddec1cf0",
   "metadata": {
    "code_folding": [
     0
    ]
   },
   "outputs": [],
   "source": [
    "# 趋势项参数\n",
    "t = widgets.FloatSlider(\n",
    "    value=0,\n",
    "    min=-1e3,\n",
    "    max=1e3,\n",
    "    step=0.05,\n",
    "    description='常数项:',\n",
    "    disabled=False,\n",
    "    continuous_update=False,\n",
    "    orientation='horizontal',\n",
    "    readout=True,\n",
    "    readout_format='.1f',\n",
    ")\n",
    "\n",
    "magnitude_trend = widgets.FloatSlider(\n",
    "    value=0,\n",
    "    min=-5,\n",
    "    max=5,\n",
    "    step=0.01,\n",
    "    description='趋势斜率:',\n",
    "    disabled=False,\n",
    "    continuous_update=False,\n",
    "    orientation='horizontal',\n",
    "    readout=True,\n",
    "    readout_format='.1f',\n",
    ")"
   ]
  },
  {
   "cell_type": "code",
   "execution_count": 9,
   "id": "e57dddfc",
   "metadata": {
    "code_folding": [
     0
    ]
   },
   "outputs": [],
   "source": [
    "# 周期项参数\n",
    "magnitude_seasonality = widgets.FloatSlider(\n",
    "    value=0,\n",
    "    min=-100,\n",
    "    max=100,\n",
    "    step=0.1,\n",
    "    description='振幅:',\n",
    "    disabled=False,\n",
    "    continuous_update=False,\n",
    "    orientation='horizontal',\n",
    "    readout=True,\n",
    "    readout_format='.1f',\n",
    ")\n",
    "\n",
    "period = widgets.Text(\n",
    "    value='',\n",
    "    placeholder='例：5min',\n",
    "    description='周期:',\n",
    "    disabled=False,\n",
    "    continuous_update=False\n",
    ")"
   ]
  },
  {
   "cell_type": "code",
   "execution_count": 10,
   "id": "c281ffb8",
   "metadata": {
    "code_folding": [
     0
    ]
   },
   "outputs": [],
   "source": [
    "# 误差项参数\n",
    "magnitude_noise = widgets.FloatSlider(\n",
    "    value=1,\n",
    "    min=0,\n",
    "    max=10,\n",
    "    step=0.1,\n",
    "    description='误差波动:',\n",
    "    disabled=False,\n",
    "    continuous_update=False,\n",
    "    orientation='horizontal',\n",
    "    readout=True,\n",
    "    readout_format='.1f',\n",
    ")\n",
    "\n",
    "lam = widgets.FloatSlider(\n",
    "    value=0,\n",
    "    min=-10,\n",
    "    max=10,\n",
    "    step=0.1,\n",
    "    description='偏度:',\n",
    "    disabled=False, \n",
    "    continuous_update=False,\n",
    "    orientation='horizontal',\n",
    "    readout=True,\n",
    "    readout_format='.1f',\n",
    ")"
   ]
  },
  {
   "cell_type": "code",
   "execution_count": 11,
   "id": "759cbe12",
   "metadata": {
    "code_folding": [
     0
    ]
   },
   "outputs": [],
   "source": [
    "# 异常参数\n",
    "anomaly_length = widgets.IntSlider(\n",
    "    value=5,\n",
    "    min=1,\n",
    "    max=n,\n",
    "    step=1,\n",
    "    description='异常跨度:',\n",
    "    disabled=False,\n",
    "    continuous_update=False,\n",
    "    orientation='horizontal',\n",
    "    readout=True,\n",
    "    readout_format='d'\n",
    ")\n",
    "    \n",
    "anomaly_magnitude = widgets.IntSlider(\n",
    "    value=1,\n",
    "    min=1,\n",
    "    max=15,\n",
    "    step=1,\n",
    "    description='异常程度:',\n",
    "    disabled=False,\n",
    "    continuous_update=False,\n",
    "    orientation='horizontal',\n",
    "    readout=True,\n",
    "    readout_format='d'\n",
    ")\n",
    "\n",
    "anomaly_type = widgets.Dropdown(\n",
    "    options=['突增', '突降'],\n",
    "    value='突增',\n",
    "    description='异常类型:',\n",
    "    disabled=False,\n",
    ")\n",
    "\n",
    "add_anomaly_button = widgets.Button(\n",
    "    description='添加异常',\n",
    "    disabled=False,\n",
    "    button_style='', # 'success', 'info', 'warning', 'danger' or ''\n",
    "    tooltip='add_anomaly',\n",
    "    icon='' # (FontAwesome names without the `fa-` prefix)\n",
    ")\n",
    "add_anomaly_button.on_click(add_anomaly)\n",
    "\n",
    "del_anomaly_button = widgets.Button(\n",
    "    description='删除上一个异常',\n",
    "    disabled=False,\n",
    "    button_style='',\n",
    "    tooltip='del_anomaly',\n",
    "    icon=''\n",
    ")\n",
    "del_anomaly_button.on_click(del_anomaly)\n",
    "\n",
    "print_anomaly_button = widgets.Button(\n",
    "    description='打印异常',\n",
    "    disabled=False,\n",
    "    button_style='',\n",
    "    tooltip='print_anomaly',\n",
    "    icon=''\n",
    ")\n",
    "print_anomaly_button.on_click(print_anomaly)"
   ]
  },
  {
   "cell_type": "code",
   "execution_count": 12,
   "id": "67561792",
   "metadata": {
    "code_folding": [
     0
    ]
   },
   "outputs": [],
   "source": [
    "# 变点参数\n",
    "trendly_magnitude = widgets.FloatSlider(\n",
    "    value=0,\n",
    "    min=-10,\n",
    "    max=10,\n",
    "    step=0.05,\n",
    "    description='变点斜率:',\n",
    "    disabled=False,\n",
    "    continuous_update=False,\n",
    "    orientation='horizontal',\n",
    "    readout=True,\n",
    "    readout_format='.2f',\n",
    ")\n",
    "\n",
    "add_cp_button = widgets.Button(\n",
    "    description='添加变点',\n",
    "    disabled=False,\n",
    "    button_style='', # 'success', 'info', 'warning', 'danger' or ''\n",
    "    tooltip='add_anomaly',\n",
    "    icon='' # (FontAwesome names without the `fa-` prefix)\n",
    ")\n",
    "add_cp_button.on_click(add_trend)\n",
    "\n",
    "del_cp_button = widgets.Button(\n",
    "    description='删除上一个变点',\n",
    "    disabled=False,\n",
    "    button_style='',\n",
    "    tooltip='del_anomaly',\n",
    "    icon=''\n",
    ")\n",
    "del_cp_button.on_click(del_trend)\n",
    "\n",
    "print_cp_button = widgets.Button(\n",
    "    description='打印变点',\n",
    "    disabled=False,\n",
    "    button_style='',\n",
    "    tooltip='print_anomaly',\n",
    "    icon=''\n",
    ")\n",
    "print_cp_button.on_click(print_trend)"
   ]
  },
  {
   "cell_type": "code",
   "execution_count": 13,
   "id": "2b04ae18",
   "metadata": {
    "code_folding": [
     0
    ]
   },
   "outputs": [],
   "source": [
    "# 额外周期项参数\n",
    "def add_season(b):\n",
    "    global sim\n",
    "    \n",
    "    period = add_period\n",
    "    period_dic = {'s':1, 'min':60, 'h':3600, 'd':86400, 'w':604800}\n",
    "    if period == '':\n",
    "        period = 1\n",
    "    else:\n",
    "        period = period_dic[''.join(x for x in period if x.isalpha())]*float(''.join(x for x in period if x.isdigit() or x == '.'))\n",
    "        period = int(n/((sim.time[-1] - sim.time[0]).value/1e9/period)/2)\n",
    "    \n",
    "    sim.add_seasonality(magnitude = add_seasonality, period = period)\n",
    "    \n",
    "    with out_plot:\n",
    "        clear_output()\n",
    "        plt.figure(figsize=(12,8))\n",
    "        plt.plot(sim.stl_sim())\n",
    "        plt.legend([\"Value\"], fontsize=15, loc='upper right')\n",
    "        plt.title(\"The Simulation of Time Series\", fontsize=20)\n",
    "        plt.xlabel(\"Time\", fontsize=12)\n",
    "        plt.show()\n",
    "\n",
    "add_seasonality = widgets.FloatSlider(\n",
    "    value=0,\n",
    "    min=-100,\n",
    "    max=100,\n",
    "    step=0.1,\n",
    "    description='添加振幅:',\n",
    "    disabled=False,\n",
    "    continuous_update=False,\n",
    "    orientation='horizontal',\n",
    "    readout=True,\n",
    "    readout_format='.1f',\n",
    ")\n",
    "\n",
    "add_period = widgets.Text(\n",
    "    value='',\n",
    "    placeholder='例：5min',\n",
    "    description='添加周期:',\n",
    "    disabled=False,\n",
    "    continuous_update=False\n",
    ")\n",
    "\n",
    "add_seasonal_button = widgets.Button(\n",
    "    description='添加周期',\n",
    "    disabled=False,\n",
    "    button_style='',\n",
    "    tooltip='add_seasonal',\n",
    "    icon=''\n",
    ")\n",
    "add_seasonal_button.on_click(add_season)"
   ]
  },
  {
   "cell_type": "code",
   "execution_count": 14,
   "id": "44d82142",
   "metadata": {
    "code_folding": [
     14,
     27,
     34
    ]
   },
   "outputs": [],
   "source": [
    "# 特殊日期参数\n",
    "def add_special_day(b):\n",
    "    global sim, magnitude_special, special_day\n",
    "    sim.add_special_day(magnitude = magnitude_special, special_day = special_day)\n",
    "    \n",
    "    with out_plot:\n",
    "        clear_output()\n",
    "        plt.figure(figsize=(12,8))\n",
    "        plt.plot(sim.stl_sim())\n",
    "        plt.legend([\"Value\"], fontsize=15, loc='upper right')\n",
    "        plt.title(\"The Simulation of Time Series\", fontsize=20)\n",
    "        plt.xlabel(\"Time\", fontsize=12)\n",
    "        plt.show()\n",
    "\n",
    "magnitude_special = widgets.FloatSlider(\n",
    "    value=1,\n",
    "    min=0,\n",
    "    max=10,\n",
    "    step=0.1,\n",
    "    description='特殊日变化:',\n",
    "    disabled=False,\n",
    "    continuous_update=False,\n",
    "    orientation='horizontal',\n",
    "    readout=True,\n",
    "    readout_format='.1f',\n",
    ")\n",
    "\n",
    "special_day = widgets.Dropdown(\n",
    "    options=['not work days'],\n",
    "    value='not work days',\n",
    "    description='特殊日:',\n",
    "    disabled=False,\n",
    ")\n",
    "\n",
    "add_special_day_button = widgets.Button(\n",
    "    description='添加特殊日',\n",
    "    disabled=False,\n",
    "    button_style='',\n",
    "    tooltip='add_special_day',\n",
    "    icon=''\n",
    ")\n",
    "add_special_day_button.on_click(add_special_day)"
   ]
  },
  {
   "cell_type": "code",
   "execution_count": 15,
   "id": "10807710",
   "metadata": {
    "code_folding": [
     0
    ]
   },
   "outputs": [],
   "source": [
    "# 导出数据\n",
    "def save(b):\n",
    "    global sim, out_put\n",
    "    ts = pd.DataFrame(sim.stl_sim(), columns = ['value'])\n",
    "    ts.to_csv(out_put+'.csv')\n",
    "\n",
    "out_put = widgets.Text(\n",
    "    value='simulation',\n",
    "    placeholder='simulation',\n",
    "    description='保存数据:',\n",
    "    disabled=False,\n",
    "    continuous_update=False\n",
    ")\n",
    "\n",
    "out_put_button = widgets.Button(\n",
    "    description='保存数据',\n",
    "    disabled=False,\n",
    "    button_style='',\n",
    "    tooltip='save',\n",
    "    icon=''\n",
    ")\n",
    "out_put_button.on_click(save)"
   ]
  },
  {
   "cell_type": "code",
   "execution_count": 16,
   "id": "b249eb70",
   "metadata": {
    "code_folding": [
     0
    ]
   },
   "outputs": [],
   "source": [
    "# 分割线\n",
    "main_line = widgets.Output()\n",
    "main_line.append_stdout(' '*60+'主程序'+' '*60)\n",
    "trend_line = widgets.Output()\n",
    "trend_line.append_stdout(' '*60+'趋势项'+' '*60)\n",
    "period_line = widgets.Output()\n",
    "period_line.append_stdout(' '*60+'周期项'+' '*60)\n",
    "noise_line = widgets.Output()\n",
    "noise_line.append_stdout(' '*60+'误差项'+' '*60)\n",
    "feature_line = widgets.Output()\n",
    "feature_line.append_stdout(' '*59+'时序特征'+' '*59)\n",
    "add_seasonal_line = widgets.Output()\n",
    "add_seasonal_line.append_stdout(' '*30+'额外周期项（注意：前面的参数调整会消掉额外添加的周期项）'+' '*30)\n",
    "special_day_line = widgets.Output()\n",
    "special_day_line.append_stdout(' '*59+'特殊日期'+' '*59)\n",
    "log_line = widgets.Output()\n",
    "log_line.append_stdout('打印：')"
   ]
  },
  {
   "cell_type": "code",
   "execution_count": 17,
   "id": "91c1b6b5",
   "metadata": {
    "code_folding": []
   },
   "outputs": [
    {
     "data": {
      "application/vnd.jupyter.widget-view+json": {
       "model_id": "69317757457f4007a9cec4622c173e93",
       "version_major": 2,
       "version_minor": 0
      },
      "text/plain": [
       "Output(outputs=({'output_type': 'stream', 'name': 'stdout', 'text': '                                         …"
      ]
     },
     "metadata": {},
     "output_type": "display_data"
    },
    {
     "data": {
      "application/vnd.jupyter.widget-view+json": {
       "model_id": "f4a890ffe8ff441bb5ee6392a3e6bf91",
       "version_major": 2,
       "version_minor": 0
      },
      "text/plain": [
       "HBox(children=(IntSlider(value=300, continuous_update=False, description='样本个数:', max=2000, min=20), Text(valu…"
      ]
     },
     "metadata": {},
     "output_type": "display_data"
    },
    {
     "data": {
      "application/vnd.jupyter.widget-view+json": {
       "model_id": "353171b1526c46dea2593cc125cca029",
       "version_major": 2,
       "version_minor": 0
      },
      "text/plain": [
       "Output(outputs=({'output_type': 'stream', 'name': 'stdout', 'text': '                                         …"
      ]
     },
     "metadata": {},
     "output_type": "display_data"
    },
    {
     "data": {
      "application/vnd.jupyter.widget-view+json": {
       "model_id": "4835c7a1a9f042c1a11150c4afb415a6",
       "version_major": 2,
       "version_minor": 0
      },
      "text/plain": [
       "HBox(children=(FloatSlider(value=0.0, continuous_update=False, description='常数项:', max=1000.0, min=-1000.0, re…"
      ]
     },
     "metadata": {},
     "output_type": "display_data"
    },
    {
     "data": {
      "application/vnd.jupyter.widget-view+json": {
       "model_id": "c3ad37e3dae74599a59444df98335471",
       "version_major": 2,
       "version_minor": 0
      },
      "text/plain": [
       "Output(outputs=({'output_type': 'stream', 'name': 'stdout', 'text': '                                         …"
      ]
     },
     "metadata": {},
     "output_type": "display_data"
    },
    {
     "data": {
      "application/vnd.jupyter.widget-view+json": {
       "model_id": "0e763a14b08b410c947791c86ed00572",
       "version_major": 2,
       "version_minor": 0
      },
      "text/plain": [
       "HBox(children=(Text(value='', continuous_update=False, description='周期:', placeholder='例：5min'), FloatSlider(v…"
      ]
     },
     "metadata": {},
     "output_type": "display_data"
    },
    {
     "data": {
      "application/vnd.jupyter.widget-view+json": {
       "model_id": "1640bcb52e704fd9a8b8382de147109c",
       "version_major": 2,
       "version_minor": 0
      },
      "text/plain": [
       "Output(outputs=({'output_type': 'stream', 'name': 'stdout', 'text': '                                         …"
      ]
     },
     "metadata": {},
     "output_type": "display_data"
    },
    {
     "data": {
      "application/vnd.jupyter.widget-view+json": {
       "model_id": "dcbc888f7d924e9092c0f08e4f2bc1a4",
       "version_major": 2,
       "version_minor": 0
      },
      "text/plain": [
       "HBox(children=(FloatSlider(value=1.0, continuous_update=False, description='误差波动:', max=10.0, readout_format='…"
      ]
     },
     "metadata": {},
     "output_type": "display_data"
    },
    {
     "data": {
      "application/vnd.jupyter.widget-view+json": {
       "model_id": "76fa979513094ed886dfda390105bea6",
       "version_major": 2,
       "version_minor": 0
      },
      "text/plain": [
       "Output(outputs=({'output_type': 'stream', 'name': 'stdout', 'text': '                                         …"
      ]
     },
     "metadata": {},
     "output_type": "display_data"
    },
    {
     "data": {
      "application/vnd.jupyter.widget-view+json": {
       "model_id": "89c93519392646fe9d44d85bda9027fa",
       "version_major": 2,
       "version_minor": 0
      },
      "text/plain": [
       "HBox(children=(Dropdown(description='异常类型:', options=('突增', '突降'), value='突增'), IntSlider(value=5, continuous_…"
      ]
     },
     "metadata": {},
     "output_type": "display_data"
    },
    {
     "data": {
      "application/vnd.jupyter.widget-view+json": {
       "model_id": "26eb3d799e3b4d8bb8a14b53bb752a12",
       "version_major": 2,
       "version_minor": 0
      },
      "text/plain": [
       "HBox(children=(Button(description='添加异常', style=ButtonStyle(), tooltip='add_anomaly'), Button(description='删除上…"
      ]
     },
     "metadata": {},
     "output_type": "display_data"
    },
    {
     "data": {
      "application/vnd.jupyter.widget-view+json": {
       "model_id": "446345256d5146aebd30bfeab680abda",
       "version_major": 2,
       "version_minor": 0
      },
      "text/plain": [
       "HBox(children=(FloatSlider(value=0.0, continuous_update=False, description='变点斜率:', max=10.0, min=-10.0, step=…"
      ]
     },
     "metadata": {},
     "output_type": "display_data"
    },
    {
     "data": {
      "application/vnd.jupyter.widget-view+json": {
       "model_id": "03a170a495e0443ab5ac384e53b8f979",
       "version_major": 2,
       "version_minor": 0
      },
      "text/plain": [
       "HBox(children=(Button(description='添加变点', style=ButtonStyle(), tooltip='add_anomaly'), Button(description='删除上…"
      ]
     },
     "metadata": {},
     "output_type": "display_data"
    },
    {
     "data": {
      "application/vnd.jupyter.widget-view+json": {
       "model_id": "e440cb8fe1a44c6fa9ec06fc5fc3cb66",
       "version_major": 2,
       "version_minor": 0
      },
      "text/plain": [
       "Button(description='运行', style=ButtonStyle(), tooltip='plot')"
      ]
     },
     "metadata": {},
     "output_type": "display_data"
    },
    {
     "data": {
      "application/vnd.jupyter.widget-view+json": {
       "model_id": "01c925a81eea45fea4244d0c8cc6e5f5",
       "version_major": 2,
       "version_minor": 0
      },
      "text/plain": [
       "Output(outputs=({'output_type': 'stream', 'name': 'stdout', 'text': '                              额外周期项（注意：前面…"
      ]
     },
     "metadata": {},
     "output_type": "display_data"
    },
    {
     "data": {
      "application/vnd.jupyter.widget-view+json": {
       "model_id": "f4144fa550b444f196fa9120cf186cdb",
       "version_major": 2,
       "version_minor": 0
      },
      "text/plain": [
       "HBox(children=(Text(value='', continuous_update=False, description='添加周期:', placeholder='例：5min'), FloatSlider…"
      ]
     },
     "metadata": {},
     "output_type": "display_data"
    },
    {
     "data": {
      "application/vnd.jupyter.widget-view+json": {
       "model_id": "5f807a39e54f4c05bbcb42eac80e7148",
       "version_major": 2,
       "version_minor": 0
      },
      "text/plain": [
       "Output(outputs=({'output_type': 'stream', 'name': 'stdout', 'text': '                                         …"
      ]
     },
     "metadata": {},
     "output_type": "display_data"
    },
    {
     "data": {
      "application/vnd.jupyter.widget-view+json": {
       "model_id": "9022e30dc6b94f81be2e2407e07c3347",
       "version_major": 2,
       "version_minor": 0
      },
      "text/plain": [
       "HBox(children=(FloatSlider(value=1.0, continuous_update=False, description='特殊日变化:', max=10.0, readout_format=…"
      ]
     },
     "metadata": {},
     "output_type": "display_data"
    },
    {
     "data": {
      "application/vnd.jupyter.widget-view+json": {
       "model_id": "4779f4795049421c86b98c7536a5ebdc",
       "version_major": 2,
       "version_minor": 0
      },
      "text/plain": [
       "HBox(children=(Text(value='simulation', continuous_update=False, description='保存数据:', placeholder='simulation'…"
      ]
     },
     "metadata": {},
     "output_type": "display_data"
    },
    {
     "data": {
      "application/vnd.jupyter.widget-view+json": {
       "model_id": "643d3b644568409999f7fae61e9396cf",
       "version_major": 2,
       "version_minor": 0
      },
      "text/plain": [
       "Output()"
      ]
     },
     "metadata": {},
     "output_type": "display_data"
    }
   ],
   "source": [
    "# 交互页面\n",
    "init_params = widgets.HBox([N, freq, start])\n",
    "trend_params = widgets.HBox([t, magnitude_trend])\n",
    "period_params = widgets.HBox([period, magnitude_seasonality])\n",
    "noise_params = widgets.HBox([magnitude_noise, lam])\n",
    "anomaly_params = widgets.HBox([anomaly_type, anomaly_length, anomaly_magnitude])\n",
    "anomaly_button_params = widgets.HBox([add_anomaly_button, del_anomaly_button, print_anomaly_button])\n",
    "cp_params = widgets.HBox([trendly_magnitude])\n",
    "cp_button_params = widgets.HBox([add_cp_button, del_cp_button, print_cp_button])\n",
    "add_seasonal_params = widgets.HBox([add_period, add_seasonality, add_seasonal_button])\n",
    "special_day_params = widgets.HBox([magnitude_special, special_day, add_special_day_button])\n",
    "\n",
    "out_put_params = widgets.HBox([out_put, out_put_button])\n",
    "out_plot = widgets.Output()\n",
    "\n",
    "out = widgets.interactive_output(params, {'N': N, 'Freq': freq, 'Start': start, \n",
    "                                          'T': t, 'Magnitude_trend': magnitude_trend, \n",
    "                                          'Period': period, 'Magnitude_seasonality': magnitude_seasonality, \n",
    "                                          'Magnitude_noise': magnitude_noise, 'Lam': lam, \n",
    "                                          'Anomaly_length': anomaly_length, 'Anomaly_magnitude': anomaly_magnitude, 'Anomaly_type': anomaly_type, \n",
    "                                          'Trendly_magnitude': trendly_magnitude, \n",
    "                                          'Add_period': add_period, 'Add_seasonality': add_seasonality, \n",
    "                                          'Magnitude_special': magnitude_special, 'Special_day': special_day,\n",
    "                                          'Out_put': out_put})\n",
    "\n",
    "display(main_line, init_params, \n",
    "        trend_line, trend_params, \n",
    "        period_line, period_params, \n",
    "        noise_line, noise_params, \n",
    "        feature_line, \n",
    "        anomaly_params, anomaly_button_params, \n",
    "        cp_params, cp_button_params, \n",
    "        plot_button, \n",
    "        add_seasonal_line, add_seasonal_params, \n",
    "        special_day_line, special_day_params,\n",
    "        out_put_params, out_plot)"
   ]
  },
  {
   "cell_type": "code",
   "execution_count": null,
   "id": "a94a67f3",
   "metadata": {},
   "outputs": [],
   "source": []
  }
 ],
 "metadata": {
  "kernelspec": {
   "display_name": "Python 3 (ipykernel)",
   "language": "python",
   "name": "python3"
  },
  "language_info": {
   "codemirror_mode": {
    "name": "ipython",
    "version": 3
   },
   "file_extension": ".py",
   "mimetype": "text/x-python",
   "name": "python",
   "nbconvert_exporter": "python",
   "pygments_lexer": "ipython3",
   "version": "3.9.12"
  }
 },
 "nbformat": 4,
 "nbformat_minor": 5
}
